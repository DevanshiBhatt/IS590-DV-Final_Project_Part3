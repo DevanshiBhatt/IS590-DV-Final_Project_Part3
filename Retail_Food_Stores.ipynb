{
 "cells": [
  {
   "cell_type": "code",
   "execution_count": 8,
   "metadata": {},
   "outputs": [],
   "source": [
    "#import pandas, numpy, matplotlib and ipywidgets\n",
    "import pandas as pd\n",
    "import bqplot\n",
    "import numpy as np\n",
    "import ipywidgets\n",
    "import matplotlib.pyplot as plt"
   ]
  },
  {
   "cell_type": "code",
   "execution_count": 9,
   "metadata": {},
   "outputs": [],
   "source": [
    "#read the file\n",
    "data = pd.read_csv(\"Retail_Food_Stores.csv\")\n"
   ]
  },
  {
   "cell_type": "code",
   "execution_count": 10,
   "metadata": {},
   "outputs": [],
   "source": [
    "data_req = data.groupby(by=['County'])['Entity Name'].count().nlargest(15)"
   ]
  },
  {
   "cell_type": "code",
   "execution_count": 11,
   "metadata": {},
   "outputs": [
    {
     "data": {
      "text/plain": [
       "County\n",
       "Kings          5108\n",
       "Queens         3228\n",
       "New York       2732\n",
       "Bronx          2577\n",
       "Suffolk        1877\n",
       "Nassau         1443\n",
       "Erie           1281\n",
       "Westchester    1227\n",
       "Monroe          898\n",
       "Onondaga        645\n",
       "Richmond        588\n",
       "Orange          515\n",
       "Albany          503\n",
       "Dutchess        401\n",
       "Ulster          337\n",
       "Name: Entity Name, dtype: int64"
      ]
     },
     "execution_count": 11,
     "metadata": {},
     "output_type": "execute_result"
    }
   ],
   "source": [
    "data_req"
   ]
  },
  {
   "cell_type": "code",
   "execution_count": 12,
   "metadata": {},
   "outputs": [
    {
     "data": {
      "text/plain": [
       "<matplotlib.axes._subplots.AxesSubplot at 0x2b7e37c3dd8>"
      ]
     },
     "execution_count": 12,
     "metadata": {},
     "output_type": "execute_result"
    },
    {
     "data": {
      "image/png": "[encoded data removed]",
      "text/plain": [
       "<Figure size 432x288 with 1 Axes>"
      ]
     },
     "metadata": {},
     "output_type": "display_data"
    }
   ],
   "source": [
    "data_req.plot.bar(stacked=True)"
   ]
  },
  {
   "cell_type": "markdown",
   "metadata": {},
   "source": [
    "###  Retail_Food_Store dataset helping Instacart increasing their revenue\n",
    "The Retail_Food_Stores dataset contains the counties of New York state along with the stores name and address under each county.This information will help Instacart to find out the counties they are currently not having business with.Then \n",
    "under each county,they can cross check with their database and find out the stores they are not currently dealing with.\n",
    "This will help expanding their business by contacting the remaining stores. This graph represents top 20 counties having \n",
    "maximum stores (entity name) with counties name on the X- axis and their corresponding entity name's number on the Y- axis. Since, top 20 counties have the maximum number of entity name's it will help Instacart to directly compare the number of stores(entity name) their currently dealing with this graph information. And, if the number does not match, Instacart can\n",
    "look at the database to check the missing entity name(stores) from their database and try expanding their business. Hence, this dataset will help Instacart increasing their revenue by expanding their business and dealing with new stores."
   ]
  },
  {
   "cell_type": "code",
   "execution_count": null,
   "metadata": {},
   "outputs": [],
   "source": []
  }
 ],
 "metadata": {
  "kernelspec": {
   "display_name": "Python 3",
   "language": "python",
   "name": "python3"
  },
  "language_info": {
   "codemirror_mode": {
    "name": "ipython",
    "version": 3
   },
   "file_extension": ".py",
   "mimetype": "text/x-python",
   "name": "python",
   "nbconvert_exporter": "python",
   "pygments_lexer": "ipython3",
   "version": "3.6.5"
  }
 },
 "nbformat": 4,
 "nbformat_minor": 2
}
